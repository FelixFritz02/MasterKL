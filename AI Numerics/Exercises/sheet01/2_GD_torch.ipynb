{
 "cells": [
  {
   "cell_type": "markdown",
   "metadata": {},
   "source": [
    "# GD in torch\n",
    "The implementation in the previous notebook is pretty verbose and basic. Let us reimplement it using the `pytorch` library."
   ]
  },
  {
   "cell_type": "code",
   "execution_count": 1,
   "metadata": {},
   "outputs": [],
   "source": [
    "import torch\n",
    "import torch.nn as nn\n",
    "import torch.optim as optim\n",
    "import matplotlib.pyplot as plt\n",
    "from utils import make_data\n",
    "import numpy as np"
   ]
  },
  {
   "cell_type": "markdown",
   "metadata": {},
   "source": [
    "Generate the data as before. For use with pytorch, the data must be converted to a tensor object. Since the bias will be automatically taken care of, we only take the second column of `X`."
   ]
  },
  {
   "cell_type": "code",
   "execution_count": 16,
   "metadata": {},
   "outputs": [],
   "source": [
    "X,y,theta_true = make_data(D=1, T=250)\n",
    "X_tensor = torch.from_numpy(X[:,[1]]).float()\n",
    "y_tensor = torch.from_numpy(y).float()"
   ]
  },
  {
   "cell_type": "markdown",
   "metadata": {},
   "source": [
    "Linear regression can be achieved by using `Linear` layer. For simplicty and visualization, we stick to the 1D example.\n",
    "\n",
    "Since we would like to compare different methods, we fix the initial value for theta (in this case `weight` and `bias`)."
   ]
  },
  {
   "cell_type": "code",
   "execution_count": null,
   "metadata": {},
   "outputs": [],
   "source": [
    "#TODO: Complete here\n",
    "# Look up how to use a `nn.Linear` layer and think about the shape you need to use\n",
    "\n",
    "mod = nn.Linear(in_features=1, out_features=1) # Input und Output Größen definieren, bias wird automatisch hinzugefügt\n",
    "\n",
    "with torch.no_grad():\n",
    "    mod.weight.copy_(torch.tensor([[2.0]]))  # Shape: (out_features, in_features)\n",
    "    mod.bias.copy_(torch.tensor([1.0]))      # Shape: (out_features,)"
   ]
  },
  {
   "cell_type": "markdown",
   "metadata": {},
   "source": [
    "We can then use MSE as loss function"
   ]
  },
  {
   "cell_type": "code",
   "execution_count": null,
   "metadata": {},
   "outputs": [],
   "source": [
    "#TODO: Complete here\n",
    "loss_fun = nn.MSELoss() # Lossfunktion definieren"
   ]
  },
  {
   "cell_type": "markdown",
   "metadata": {},
   "source": [
    "Moreover, we need an optimizer. `SDG` performs gradient descent."
   ]
  },
  {
   "cell_type": "code",
   "execution_count": null,
   "metadata": {},
   "outputs": [],
   "source": [
    "optimizer = optim.SGD(mod.parameters(), lr=0.1) # LernrATE EINSTELLEN"
   ]
  },
  {
   "cell_type": "markdown",
   "metadata": {},
   "source": [
    "Now, to fit the above model to the data, we must set up a loop"
   ]
  },
  {
   "cell_type": "code",
   "execution_count": null,
   "metadata": {},
   "outputs": [
    {
     "name": "stdout",
     "output_type": "stream",
     "text": [
      "Epoch 0: Loss = 4.5244\n",
      "Epoch 50: Loss = 0.0156\n",
      "Epoch 100: Loss = 0.0048\n",
      "Epoch 150: Loss = 0.0020\n",
      "Epoch 200: Loss = 0.0013\n",
      "Epoch 250: Loss = 0.0011\n",
      "Epoch 300: Loss = 0.0010\n",
      "Epoch 350: Loss = 0.0010\n",
      "Epoch 400: Loss = 0.0010\n",
      "Epoch 450: Loss = 0.0010\n"
     ]
    }
   ],
   "source": [
    "# Number of passes over the dataset\n",
    "epochs = 500\n",
    "\n",
    "# We wish to save the trajectory of weight, bias and loss\n",
    "hist_W = []\n",
    "hist_b = []\n",
    "hist_loss = []\n",
    "\n",
    "#Trainigsloop bleibt auch bei mehrschichtigen Netzen gleich\n",
    "for epoch in range(epochs):\n",
    "    pred = mod(X_tensor)  # Forward pass, Output wird berechnet\n",
    "    loss = loss_fun(pred, y_tensor)  # Compute loss\n",
    "\n",
    "    optimizer.zero_grad() #Gradienten auf Null setzen\n",
    "    loss.backward() # Berechne den Gradienten\n",
    "    optimizer.step() # Optimierungsschritt nach Gradient Descent \n",
    "\n",
    "    hist_W.append(mod.state_dict()[\"weight\"].numpy()[0,0])\n",
    "    hist_b.append(mod.state_dict()[\"bias\"].numpy()[0])\n",
    "\n",
    "    if epoch % 50 == 0:\n",
    "        print(f\"Epoch {epoch}: Loss = {loss.item():.4f}\")\n"
   ]
  },
  {
   "cell_type": "markdown",
   "metadata": {},
   "source": [
    "As we did in the previous example, let us evaluate the objective function value over a grid."
   ]
  },
  {
   "cell_type": "code",
   "execution_count": 41,
   "metadata": {},
   "outputs": [],
   "source": [
    "res = 50\n",
    "xx = np.linspace(-10.0, 10.0, res)\n",
    "\n",
    "z = np.zeros([res,res])\n",
    "for i1,x1 in enumerate(xx):\n",
    "    for i2,x2 in enumerate(xx):\n",
    "        z[i2,i1] = (1 / y.size) * np.sum((X @ np.array([[x1],[x2]]) - y)**2)"
   ]
  },
  {
   "cell_type": "markdown",
   "metadata": {},
   "source": [
    "Now, we can plot the objective function values on the grid and the trajectory taken during optimization"
   ]
  },
  {
   "cell_type": "code",
   "execution_count": 42,
   "metadata": {},
   "outputs": [
    {
     "data": {
      "text/plain": [
       "<matplotlib.collections.PathCollection at 0x20f4145e850>"
      ]
     },
     "execution_count": 42,
     "metadata": {},
     "output_type": "execute_result"
    },
    {
     "data": {
      "image/png": "[encoded data removed]",
      "text/plain": [
       "<Figure size 640x480 with 1 Axes>"
      ]
     },
     "metadata": {},
     "output_type": "display_data"
    }
   ],
   "source": [
    "plt.contourf(xx, xx, z)\n",
    "plt.xlabel(r\"$\\theta_0$\")\n",
    "plt.ylabel(r\"$\\theta_1$\")\n",
    "plt.scatter(hist_b, hist_W)"
   ]
  }
 ],
 "metadata": {
  "kernelspec": {
   "display_name": "Python 3",
   "language": "python",
   "name": "python3"
  },
  "language_info": {
   "codemirror_mode": {
    "name": "ipython",
    "version": 3
   },
   "file_extension": ".py",
   "mimetype": "text/x-python",
   "name": "python",
   "nbconvert_exporter": "python",
   "pygments_lexer": "ipython3",
   "version": "3.11.9"
  }
 },
 "nbformat": 4,
 "nbformat_minor": 2
}
