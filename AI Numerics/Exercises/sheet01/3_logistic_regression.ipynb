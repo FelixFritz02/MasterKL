{
 "cells": [
  {
   "cell_type": "code",
   "execution_count": null,
   "metadata": {},
   "outputs": [],
   "source": [
    "import torch\n",
    "import torch.nn as nn\n",
    "import torch.optim as optim\n",
    "import matplotlib.pyplot as plt\n",
    "import numpy as np\n",
    "from sklearn.datasets import make_blobs\n",
    "from torch.utils.data import DataLoader, TensorDataset"
   ]
  },
  {
   "cell_type": "markdown",
   "metadata": {},
   "source": [
    "# Logistic regression\n",
    "We will use the `make_blobs` function to generate the data"
   ]
  },
  {
   "cell_type": "code",
   "execution_count": null,
   "metadata": {},
   "outputs": [],
   "source": [
    "X,y = make_blobs(\n",
    "    n_samples=250,\n",
    "    n_features=2,\n",
    "    centers=[[.2, .2],[.8,.6]],\n",
    "    cluster_std=[.1,.25]\n",
    ")\n",
    "\n",
    "# Convert to tensor and create dataloader\n",
    "dataset = TensorDataset(torch.Tensor(X), torch.Tensor(y.reshape(-1,1)))\n",
    "dataloader = DataLoader(dataset, batch_size=32, shuffle=True)\n",
    "\n",
    "plt.scatter(X[:,0], X[:,1], c=y)"
   ]
  },
  {
   "cell_type": "markdown",
   "metadata": {},
   "source": [
    "Create a class `LogisticRegression`, extending `nn.Module`. In its initialization, create a `Linear` layer ($D \\mapsto 1$) and a `Sigmoid` one. You could also use two outputs and softmax. Create a forward method that applies the linear layer and then the sigmoid one. The forward method should return the output of the sigmoid layer."
   ]
  },
  {
   "cell_type": "code",
   "execution_count": null,
   "metadata": {},
   "outputs": [],
   "source": [
    "class LogisticRegression(nn.Module):\n",
    "    def __init__(self, input_dimensions):\n",
    "        super().__init__()\n",
    "        ????\n",
    "\n",
    "    def forward(self,x):\n",
    "        return ???"
   ]
  },
  {
   "cell_type": "code",
   "execution_count": null,
   "metadata": {},
   "outputs": [],
   "source": [
    "mod = LogisticRegression(input_dimensions=2)"
   ]
  },
  {
   "cell_type": "markdown",
   "metadata": {},
   "source": [
    "Define the loss function (in this case binary cross entropy) and an optimizer (for example SGD)"
   ]
  },
  {
   "cell_type": "code",
   "execution_count": null,
   "metadata": {},
   "outputs": [],
   "source": [
    "loss_fun = 0 # Select apropriate loss function e.g. nn.BCELoss()\n",
    "optimizer = optim.SGD(mod.parameters(), lr=0.1)"
   ]
  },
  {
   "cell_type": "markdown",
   "metadata": {},
   "source": [
    "Iterate a training step"
   ]
  },
  {
   "cell_type": "code",
   "execution_count": null,
   "metadata": {},
   "outputs": [],
   "source": [
    "# Training loop goes here\n"
   ]
  },
  {
   "cell_type": "markdown",
   "metadata": {},
   "source": [
    "Great! Let us have a look at the predictions:"
   ]
  },
  {
   "cell_type": "code",
   "execution_count": null,
   "metadata": {},
   "outputs": [],
   "source": [
    "preds = mod(torch.Tensor(X)).detach().numpy()\n",
    "\n",
    "plt.scatter(X[:,0], X[:,1], c=y, s=100)\n",
    "plt.scatter(X[:,0], X[:,1], c=preds)"
   ]
  },
  {
   "cell_type": "markdown",
   "metadata": {},
   "source": [
    "As you can see, the points are assigned a probability of being in class 1 (yellow) which match the original labels.\n",
    "\n",
    "## Decision boundary\n",
    "However, we may want to investigate what decisions is assigned to any given combination of the features. In this case, since the data is 2 dimensional, we can create a grid and evaluate the model on it."
   ]
  },
  {
   "cell_type": "code",
   "execution_count": null,
   "metadata": {},
   "outputs": [],
   "source": [
    "res = 50\n",
    "grid_1D = np.linspace(-.5, 1.5, res)\n",
    "xx,yy = np.meshgrid(grid_1D, grid_1D)\n",
    "\n",
    "X_grid = np.column_stack((xx.flatten(), yy.flatten()))\n",
    "\n",
    "plt.scatter(X_grid[:,0], X_grid[:,1],s=2)\n",
    "\n",
    "X_grid = torch.Tensor(X_grid)"
   ]
  },
  {
   "cell_type": "code",
   "execution_count": null,
   "metadata": {},
   "outputs": [],
   "source": [
    "preds = mod(X_grid).detach().numpy()\n",
    "plt.scatter(X_grid[:,0], X_grid[:,1],c=preds, s=2)"
   ]
  },
  {
   "cell_type": "code",
   "execution_count": null,
   "metadata": {},
   "outputs": [],
   "source": [
    "plt.contourf(grid_1D, grid_1D, preds.reshape(res,res), levels=20)\n",
    "plt.colorbar()\n",
    "plt.scatter(X[:,0], X[:,1], c=y, edgecolors='k')"
   ]
  }
 ],
 "metadata": {
  "kernelspec": {
   "display_name": ".venv",
   "language": "python",
   "name": "python3"
  },
  "language_info": {
   "codemirror_mode": {
    "name": "ipython",
    "version": 3
   },
   "file_extension": ".py",
   "mimetype": "text/x-python",
   "name": "python",
   "nbconvert_exporter": "python",
   "pygments_lexer": "ipython3",
   "version": "3.12.8"
  }
 },
 "nbformat": 4,
 "nbformat_minor": 2
}
