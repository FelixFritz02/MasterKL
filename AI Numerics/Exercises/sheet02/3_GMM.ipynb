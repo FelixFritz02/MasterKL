{
 "cells": [
  {
   "cell_type": "code",
   "execution_count": null,
   "metadata": {},
   "outputs": [],
   "source": [
    "from sklearn.datasets import make_blobs\n",
    "import matplotlib.pyplot as plt\n",
    "plt.rcParams[\"animation.html\"] = \"jshtml\"\n",
    "import numpy as np\n",
    "from scipy.spatial.distance import cdist\n",
    "from scipy.stats import norm, multivariate_normal"
   ]
  },
  {
   "cell_type": "markdown",
   "metadata": {},
   "source": [
    "# GMM\n",
    "\n",
    "In this notebook, we will explore the GMM algorithm in its simplest form.\n",
    "The data can be generated as in the previous notebook."
   ]
  },
  {
   "cell_type": "code",
   "execution_count": null,
   "metadata": {},
   "outputs": [],
   "source": [
    "X,y,centers = make_blobs(\n",
    "    n_samples=1000,\n",
    "    n_features=2,\n",
    "    return_centers=True,\n",
    "    random_state=42\n",
    ")\n",
    "\n",
    "# TODO: Shuffle and split the data\n",
    "\n",
    "plt.scatter(X[:,0], X[:,1], c=y)\n",
    "plt.scatter(centers[:,0], centers[:,1], c='r', s=120)\n",
    "plt.legend([\"data\", \"centers\"])\n",
    "plt.xlabel(r\"$x_1$\")\n",
    "plt.ylabel(r\"$x_2$\")"
   ]
  },
  {
   "cell_type": "markdown",
   "metadata": {},
   "source": [
    "## Fitting normal distribution to data\n",
    "use `norm.fit` and `norm.pdf` to evaluate pdf for plotting"
   ]
  },
  {
   "cell_type": "code",
   "execution_count": null,
   "metadata": {},
   "outputs": [],
   "source": [
    "data = np.random.randn(1000)/10 + 2\n",
    "plt.hist(data, density=True)\n",
    "\n",
    "mu, std = norm.fit(data)\n",
    "\n",
    "x_plot = np.linspace(-3,3,100)\n",
    "plt.plot(x_plot, norm.pdf(x_plot, mu, std))"
   ]
  },
  {
   "cell_type": "markdown",
   "metadata": {},
   "source": [
    "For multivariate normal distribution, we can use `multivariate_normal` from `scipy.stats`"
   ]
  },
  {
   "cell_type": "code",
   "execution_count": null,
   "metadata": {},
   "outputs": [],
   "source": [
    "data = np.random.randn(1000,2)/10 + 2\n",
    "plt.scatter(data[:,0], data[:,1])\n",
    "\n",
    "def plot_mv_normal(mu,sigm,low,high,res):\n",
    "    grid_1d=np.linspace(low,high,res)\n",
    "    xx,yy = np.meshgrid(grid_1d,grid_1d)\n",
    "\n",
    "    d = multivariate_normal(mu,sigm)\n",
    "    z = d.pdf(np.dstack((xx,yy)))\n",
    "    return plt.contour(grid_1d,grid_1d,z)\n",
    "\n",
    "mu, std = multivariate_normal.fit(data)\n",
    "\n",
    "plot_mv_normal(mu,std, 1.25, 2.5, 50)"
   ]
  },
  {
   "cell_type": "markdown",
   "metadata": {},
   "source": [
    "You can start from K-means clustering, but:\n",
    "- Each cluster is a normal distribution, parameterized by its mean and covariance\n",
    "- Instead of calculating the distance to the cluster center, we calculate the probability of each point belonging to each cluster\n",
    "- We can assign each point to the cluster with the highest probability\n",
    "- The parameters of the normal distributions are updated using the points assigned to each cluster\n",
    "- The process is repeated until convergence"
   ]
  },
  {
   "cell_type": "code",
   "execution_count": null,
   "metadata": {},
   "outputs": [],
   "source": [
    "class GMM_demo:\n",
    "    def __init__(self, K, max_iters=200, tol=1e-8):\n",
    "        self.K = K\n",
    "        self.max_iters = max_iters\n",
    "        self.tol = tol\n",
    "\n",
    "\n",
    "#TODO: Implement the required methods for the GMM struct"
   ]
  },
  {
   "cell_type": "code",
   "execution_count": null,
   "metadata": {},
   "outputs": [],
   "source": [
    "mod = GMM_demo(K=3)\n",
    "mod.fit(X)"
   ]
  },
  {
   "cell_type": "code",
   "execution_count": null,
   "metadata": {},
   "outputs": [],
   "source": [
    "plt.scatter(X[:,0], X[:,1], c=np.argmax(mod.G,1))\n",
    "for k in range(mod.K):\n",
    "    plot_mv_normal(mod.means[k],mod.sigma[k],-10,10,50)"
   ]
  }
 ],
 "metadata": {
  "kernelspec": {
   "display_name": ".venv",
   "language": "python",
   "name": "python3"
  },
  "language_info": {
   "codemirror_mode": {
    "name": "ipython",
    "version": 3
   },
   "file_extension": ".py",
   "mimetype": "text/x-python",
   "name": "python",
   "nbconvert_exporter": "python",
   "pygments_lexer": "ipython3",
   "version": "3.12.8"
  }
 },
 "nbformat": 4,
 "nbformat_minor": 2
}
