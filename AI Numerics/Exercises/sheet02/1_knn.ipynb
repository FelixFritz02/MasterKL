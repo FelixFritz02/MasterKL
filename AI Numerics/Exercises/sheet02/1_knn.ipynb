{
 "cells": [
  {
   "cell_type": "code",
   "execution_count": null,
   "metadata": {},
   "outputs": [],
   "source": [
    "from sklearn.datasets import make_blobs\n",
    "import matplotlib.pyplot as plt\n",
    "import numpy as np\n",
    "from scipy.spatial.distance import cdist\n",
    "from scipy.stats import mode\n",
    "from sklearn.model_selection import train_test_split"
   ]
  },
  {
   "cell_type": "markdown",
   "metadata": {},
   "source": [
    "# KNN\n",
    "In this exercise we will implement the KNN algorithm. We will start with some data, generated using the `make_blobs` function from scikit learn. Read the documentation to learn how to influence the dataset generation procedure. \n",
    "\n",
    "Next, we will save a portion of the data for testing using scikit learn's `train_test_split` function. "
   ]
  },
  {
   "cell_type": "code",
   "execution_count": null,
   "metadata": {},
   "outputs": [],
   "source": [
    "X,y,centers = make_blobs(\n",
    "    n_samples=1000,\n",
    "    n_features=2,\n",
    "    return_centers=True,\n",
    ")\n",
    "\n",
    "# TODO: Shuffle and split the data\n",
    "\n",
    "\n",
    "# Plot the training data\n",
    "plt.scatter(X_train[:,0], X_train[:,1], c=y_train)\n",
    "\n",
    "plt.scatter(centers[:,0], centers[:,1], c='r', s=120)\n",
    "plt.legend([\"data\", \"centers\"])\n",
    "plt.xlabel(r\"$x_1$\")\n",
    "plt.ylabel(r\"$x_2$\")"
   ]
  },
  {
   "cell_type": "markdown",
   "metadata": {},
   "source": [
    "Next, let us create a KNN class. We can then implement the following:\n",
    "### Constructor\n",
    "`__init__` method, which will take as argument `K` (the number of neighbors to use) and store it as a property of the class.\n",
    "### Fit\n",
    "Fit method should simply store the training data X and y as properties.\n",
    "### Predict\n",
    "Predict function should take the input data and return the predicted labels.\n",
    "Moreover, we would like to:\n",
    "1. Check if the model has been already fitted\n",
    "2. Calculate the squared euclidean distance between each point in X and each point in obj.X\n",
    "3. Find the K nearest neighbors for each point in X, and return the most common label among them\n",
    "\n",
    "\n",
    "## Hints\n",
    "Have a look at the `cdist` function from `scipy.spatial.distance`. "
   ]
  },
  {
   "cell_type": "code",
   "execution_count": null,
   "metadata": {},
   "outputs": [],
   "source": [
    "class KNN:\n",
    "    def __init__(self, K):\n",
    "        ...\n",
    "\n",
    "    def fit(self,X, y):\n",
    "        ...\n",
    "\n",
    "    def predict(self,X):\n",
    "        ..."
   ]
  },
  {
   "cell_type": "markdown",
   "metadata": {},
   "source": [
    "Now, we can instantiate a `KNN` object and fit it to the training data. Then, predict the labels of the test data and plot the results."
   ]
  },
  {
   "cell_type": "code",
   "execution_count": null,
   "metadata": {},
   "outputs": [],
   "source": [
    "# TODO: Instantiate, fit and predict\n",
    "\n",
    "plt.scatter(X_test[:,0], X_test[:,1], c=y_test, s=120, edgecolors='k', alpha=0.6)\n",
    "plt.scatter(X_test[:,0], X_test[:,1], c=preds, edgecolors='k', alpha=.6)"
   ]
  },
  {
   "cell_type": "markdown",
   "metadata": {},
   "source": [
    "## Decision boundary\n",
    "In order to investigate where the decision boundary is, we can create a `meshgrid` of points in the two dimensional input space. Then, we can simply call the `predict` method for each point. The output can be reshaped to a a grid and plotted using `countourf`."
   ]
  },
  {
   "cell_type": "code",
   "execution_count": null,
   "metadata": {},
   "outputs": [],
   "source": [
    "res = 50\n",
    "grid_x = np.linspace(X[:,0].min(), X[:,0].max(), res)\n",
    "grid_y = np.linspace(X[:,1].min(), X[:,1].max(), res)\n",
    "xx,yy = np.meshgrid(grid_x,grid_y)\n",
    "\n",
    "# TODO: complete"
   ]
  }
 ],
 "metadata": {
  "kernelspec": {
   "display_name": ".venv",
   "language": "python",
   "name": "python3"
  },
  "language_info": {
   "codemirror_mode": {
    "name": "ipython",
    "version": 3
   },
   "file_extension": ".py",
   "mimetype": "text/x-python",
   "name": "python",
   "nbconvert_exporter": "python",
   "pygments_lexer": "ipython3",
   "version": "3.12.8"
  }
 },
 "nbformat": 4,
 "nbformat_minor": 2
}
