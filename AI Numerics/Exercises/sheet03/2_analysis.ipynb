{
 "cells": [
  {
   "cell_type": "code",
   "execution_count": null,
   "metadata": {},
   "outputs": [],
   "source": [
    "import pandas as pd\n",
    "import numpy as np\n",
    "from sklearn.model_selection import GridSearchCV, KFold, cross_validate\n",
    "\n",
    "from sklearn.neighbors import KNeighborsClassifier\n",
    "from sklearn.tree import DecisionTreeClassifier\n",
    "from sklearn.ensemble import RandomForestClassifier\n",
    "from sklearn.neural_network import MLPClassifier"
   ]
  },
  {
   "cell_type": "markdown",
   "metadata": {},
   "source": [
    "# Analysis\n",
    "Once the data is clean and ready, we should:\n",
    "- select appropriate methods\n",
    "- select appropriate parameters for them\n",
    "- set up grid search and crossvalidation\n",
    "- run the analysis"
   ]
  },
  {
   "cell_type": "code",
   "execution_count": null,
   "metadata": {},
   "outputs": [],
   "source": [
    "X = np.load(\"X.npy\")\n",
    "y = np.load(\"y.npy\")"
   ]
  },
  {
   "cell_type": "markdown",
   "metadata": {},
   "source": [
    "## Selection of methods\n",
    "In general, before applying large and expensive models, it is good to try simple linear models. More than one model should be used :)\n",
    "\n",
    "In this case, we are performing multiclass classification. "
   ]
  },
  {
   "cell_type": "code",
   "execution_count": null,
   "metadata": {},
   "outputs": [],
   "source": [
    "inner_cv = KFold(n_splits = 3, shuffle=True)\n",
    "outer_cv = KFold(n_splits = 10, shuffle=True)"
   ]
  },
  {
   "cell_type": "markdown",
   "metadata": {},
   "source": [
    "## KNN"
   ]
  },
  {
   "cell_type": "code",
   "execution_count": null,
   "metadata": {},
   "outputs": [],
   "source": [
    "hyperparams_KNN = {\n",
    "    'n_neighbors' : [2,5,10,25],\n",
    "    'weights' : ['uniform', 'distance'],\n",
    "}\n",
    "\n",
    "grid_KNN = GridSearchCV(\n",
    "    estimator=KNeighborsClassifier(),\n",
    "    param_grid=hyperparams_KNN,\n",
    "    scoring=\"roc_auc_ovr_weighted\",\n",
    "    cv = inner_cv,\n",
    ")\n",
    "\n",
    "scores_KNN = cross_validate(grid_KNN, X=X, y=y, cv=outer_cv, scoring=\"roc_auc_ovr_weighted\", return_train_score=True)"
   ]
  },
  {
   "cell_type": "markdown",
   "metadata": {},
   "source": [
    "## DT"
   ]
  },
  {
   "cell_type": "code",
   "execution_count": null,
   "metadata": {},
   "outputs": [],
   "source": [
    "hyperparams_DT = {\n",
    "    'criterion' : ['gini', 'entropy'],\n",
    "    'splitter' : ['best', 'random'],\n",
    "    'max_depth' : [None, 5, 10, 20],\n",
    "}\n",
    "\n",
    "grid_DT = ...\n",
    "\n",
    "scores_DT = ..."
   ]
  },
  {
   "cell_type": "markdown",
   "metadata": {},
   "source": [
    "## RF"
   ]
  },
  {
   "cell_type": "code",
   "execution_count": null,
   "metadata": {},
   "outputs": [],
   "source": [
    "hyperparams_RF = {\n",
    "    'criterion' : ['gini', 'entropy'],\n",
    "    'max_depth' : [None, 5, 10, 20],\n",
    "    'n_estimators' : [20,50,100]\n",
    "}\n",
    "\n",
    "grid_RF = ...\n",
    "\n",
    "scores_RF = ..."
   ]
  },
  {
   "cell_type": "markdown",
   "metadata": {},
   "source": [
    "## MLP"
   ]
  },
  {
   "cell_type": "code",
   "execution_count": null,
   "metadata": {},
   "outputs": [],
   "source": [
    "hyperparams_NN = {\n",
    "    'hidden_layer_sizes' : [(50,50,), (10,10,), (100,), (100,100)],\n",
    "    'activation' : ['relu', 'logistic'],\n",
    "}\n",
    "\n",
    "grid_NN = ...\n",
    "\n",
    "scores_NN = ..."
   ]
  },
  {
   "cell_type": "code",
   "execution_count": null,
   "metadata": {},
   "outputs": [],
   "source": [
    "def cross_val_to_df(scores, model_name):\n",
    "    df = pd.DataFrame({\n",
    "        \"cv\": range(1, len(scores[\"train_score\"]) + 1),  # CV fold index\n",
    "        \"train_auc\": scores[\"train_score\"],\n",
    "        \"test_auc\": scores[\"test_score\"],\n",
    "        \"fit_time\": scores[\"fit_time\"],\n",
    "        \"model\": model_name\n",
    "    })\n",
    "    return df\n",
    "\n",
    "# Combine into a single DataFrame\n",
    "df_all = pd.concat(\n",
    "    [\n",
    "        cross_val_to_df(scores_RF, \"RF\"),\n",
    "        cross_val_to_df(scores_DT, \"DT\"),\n",
    "        cross_val_to_df(scores_KNN, \"KNN\"),\n",
    "        cross_val_to_df(scores_NN, \"MLP\"),        \n",
    "        ], ignore_index=True)\n",
    "\n",
    "df_all"
   ]
  },
  {
   "cell_type": "markdown",
   "metadata": {},
   "source": [
    "Use seaborn's `boxplot` to plot the train and test performance, as well as the fit time for each model."
   ]
  },
  {
   "cell_type": "code",
   "execution_count": null,
   "metadata": {},
   "outputs": [],
   "source": []
  },
  {
   "cell_type": "code",
   "execution_count": null,
   "metadata": {},
   "outputs": [],
   "source": []
  },
  {
   "cell_type": "code",
   "execution_count": null,
   "metadata": {},
   "outputs": [],
   "source": []
  },
  {
   "cell_type": "markdown",
   "metadata": {},
   "source": [
    "# Additional considerations\n",
    "We can then be interested into analysing:\n",
    "- the feature importance of the best model\n",
    "- the decision boundary (if applicable)\n",
    "\n",
    "\n",
    "In this case, note that cross_validate can return one estimator per fold. We can then select them fold by fold and calculate the permutation feature importance."
   ]
  },
  {
   "cell_type": "code",
   "execution_count": null,
   "metadata": {},
   "outputs": [],
   "source": [
    "scores_KNN = cross_validate(grid_KNN, X=X, y=y, cv=outer_cv, scoring=\"roc_auc_ovr_weighted\", return_train_score=True, return_estimator=True)\n",
    "\n",
    "knn = scores_KNN[\"estimator\"][0]"
   ]
  },
  {
   "cell_type": "code",
   "execution_count": null,
   "metadata": {},
   "outputs": [],
   "source": [
    "from sklearn.inspection import permutation_importance\n",
    "imp = permutation_importance(knn, X, y, n_repeats=20)"
   ]
  },
  {
   "cell_type": "code",
   "execution_count": null,
   "metadata": {},
   "outputs": [],
   "source": [
    "plt.boxplot(imp.importances.T, vert=False)\n",
    "plt.yticks(range(1,5), ['sepal length (cm)', 'sepal width (cm)', 'petal length (cm)','petal width (cm)'])\n",
    "plt.xlabel(\"Permutation importance\")\n",
    "plt.show()"
   ]
  }
 ],
 "metadata": {
  "kernelspec": {
   "display_name": ".venv",
   "language": "python",
   "name": "python3"
  },
  "language_info": {
   "codemirror_mode": {
    "name": "ipython",
    "version": 3
   },
   "file_extension": ".py",
   "mimetype": "text/x-python",
   "name": "python",
   "nbconvert_exporter": "python",
   "pygments_lexer": "ipython3",
   "version": "3.12.8"
  }
 },
 "nbformat": 4,
 "nbformat_minor": 2
}
