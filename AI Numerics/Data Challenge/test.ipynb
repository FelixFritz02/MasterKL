{
 "cells": [
  {
   "cell_type": "markdown",
   "id": "fcde09f0",
   "metadata": {},
   "source": [
    "Folgendes muss man evtl einmal ausführen um die Klasse richtig zu laden. Danach kann man es ignorieren."
   ]
  },
  {
   "cell_type": "code",
   "execution_count": null,
   "id": "26e807e1",
   "metadata": {},
   "outputs": [],
   "source": [
    "import importlib\n",
    "import DataLoader\n",
    "importlib.reload(DataLoader)"
   ]
  },
  {
   "cell_type": "code",
   "execution_count": 6,
   "id": "f857af94",
   "metadata": {},
   "outputs": [
    {
     "data": {
      "text/plain": [
       "(299, 12)"
      ]
     },
     "execution_count": 6,
     "metadata": {},
     "output_type": "execute_result"
    }
   ],
   "source": [
    "from DataLoader import HeartFailureDataset\n",
    "\n",
    "load_data = HeartFailureDataset()\n",
    "X = load_data.get_features()\n",
    "X.shape"
   ]
  },
  {
   "cell_type": "markdown",
   "id": "0ef057a8",
   "metadata": {},
   "source": [
    "Explanation of the different attributes:\n",
    "\n",
    "    1. Age; patient age, in years\n",
    "    2. Anemia; decrease in red blood cells or hemoglobin,\n",
    "    3. Creatinine; CPK enzyme levels in the blood (mcg/L),\n",
    "    4. Diabetes; whether the patient is diabetic,\n",
    "    5. Ejection fraction (EF); the percentage of blood that leaves the heart with each contraction\n",
    "    6. High blood pressure; whether the patient has hypertension\n",
    "    7. Platelets; platelets in the blood (kilo platelets/mL)\n",
    "    8. Serum creatinine; serum creatinine level in the blood (mg/dL)\n",
    "    9. Serum sodium; serum sodium level in the blood (mEq/L)\n",
    "    10. Sex (gender); male or female\n",
    "    11. Smoking; whether the patient smokes or not\n",
    "    12. Time; Patient follow-up time in days"
   ]
  },
  {
   "cell_type": "code",
   "execution_count": 19,
   "id": "94e7be41",
   "metadata": {},
   "outputs": [
    {
     "data": {
      "text/html": [
       "<div>\n",
       "<style scoped>\n",
       "    .dataframe tbody tr th:only-of-type {\n",
       "        vertical-align: middle;\n",
       "    }\n",
       "\n",
       "    .dataframe tbody tr th {\n",
       "        vertical-align: top;\n",
       "    }\n",
       "\n",
       "    .dataframe thead th {\n",
       "        text-align: right;\n",
       "    }\n",
       "</style>\n",
       "<table border=\"1\" class=\"dataframe\">\n",
       "  <thead>\n",
       "    <tr style=\"text-align: right;\">\n",
       "      <th></th>\n",
       "      <th>death_event</th>\n",
       "    </tr>\n",
       "  </thead>\n",
       "  <tbody>\n",
       "    <tr>\n",
       "      <th>0</th>\n",
       "      <td>1</td>\n",
       "    </tr>\n",
       "    <tr>\n",
       "      <th>1</th>\n",
       "      <td>1</td>\n",
       "    </tr>\n",
       "    <tr>\n",
       "      <th>2</th>\n",
       "      <td>1</td>\n",
       "    </tr>\n",
       "    <tr>\n",
       "      <th>3</th>\n",
       "      <td>1</td>\n",
       "    </tr>\n",
       "    <tr>\n",
       "      <th>4</th>\n",
       "      <td>1</td>\n",
       "    </tr>\n",
       "    <tr>\n",
       "      <th>...</th>\n",
       "      <td>...</td>\n",
       "    </tr>\n",
       "    <tr>\n",
       "      <th>294</th>\n",
       "      <td>0</td>\n",
       "    </tr>\n",
       "    <tr>\n",
       "      <th>295</th>\n",
       "      <td>0</td>\n",
       "    </tr>\n",
       "    <tr>\n",
       "      <th>296</th>\n",
       "      <td>0</td>\n",
       "    </tr>\n",
       "    <tr>\n",
       "      <th>297</th>\n",
       "      <td>0</td>\n",
       "    </tr>\n",
       "    <tr>\n",
       "      <th>298</th>\n",
       "      <td>0</td>\n",
       "    </tr>\n",
       "  </tbody>\n",
       "</table>\n",
       "<p>299 rows × 1 columns</p>\n",
       "</div>"
      ],
      "text/plain": [
       "     death_event\n",
       "0              1\n",
       "1              1\n",
       "2              1\n",
       "3              1\n",
       "4              1\n",
       "..           ...\n",
       "294            0\n",
       "295            0\n",
       "296            0\n",
       "297            0\n",
       "298            0\n",
       "\n",
       "[299 rows x 1 columns]"
      ]
     },
     "execution_count": 19,
     "metadata": {},
     "output_type": "execute_result"
    }
   ],
   "source": [
    "y = load_data.get_targets()\n",
    "y"
   ]
  },
  {
   "cell_type": "markdown",
   "id": "cc8c231f",
   "metadata": {},
   "source": [
    "Death event; death of the patient during the follow up period"
   ]
  }
 ],
 "metadata": {
  "kernelspec": {
   "display_name": "Python 3",
   "language": "python",
   "name": "python3"
  },
  "language_info": {
   "codemirror_mode": {
    "name": "ipython",
    "version": 3
   },
   "file_extension": ".py",
   "mimetype": "text/x-python",
   "name": "python",
   "nbconvert_exporter": "python",
   "pygments_lexer": "ipython3",
   "version": "3.11.9"
  }
 },
 "nbformat": 4,
 "nbformat_minor": 5
}
