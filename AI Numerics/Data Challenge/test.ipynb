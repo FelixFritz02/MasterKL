{
 "cells": [
  {
   "cell_type": "code",
   "execution_count": null,
   "id": "f857af94",
   "metadata": {},
   "outputs": [
    {
     "name": "stdout",
     "output_type": "stream",
     "text": [
      "     death_event\n",
      "0              1\n",
      "1              1\n",
      "2              1\n",
      "3              1\n",
      "4              1\n",
      "..           ...\n",
      "294            0\n",
      "295            0\n",
      "296            0\n",
      "297            0\n",
      "298            0\n",
      "\n",
      "[299 rows x 1 columns]\n"
     ]
    },
    {
     "data": {
      "text/plain": [
       "'\\n# metadata \\nprint(heart_failure_clinical_records.metadata) \\n\\n# variable information \\nprint(heart_failure_clinical_records.variables) \\n'"
      ]
     },
     "execution_count": 8,
     "metadata": {},
     "output_type": "execute_result"
    }
   ],
   "source": [
    "from ucimlrepo import fetch_ucirepo \n",
    "  \n",
    "# fetch dataset \n",
    "heart_failure_clinical_records = fetch_ucirepo(id=519) \n",
    "  \n",
    "# data (as pandas dataframes) \n",
    "X = heart_failure_clinical_records.data.features \n",
    "y = heart_failure_clinical_records.data.targets \n",
    "  \n",
    "\n",
    "# metadata \n",
    "print(heart_failure_clinical_records.metadata) \n",
    "  \n",
    "# variable information \n",
    "print(heart_failure_clinical_records.variables) \n"
   ]
  }
 ],
 "metadata": {
  "kernelspec": {
   "display_name": "Python 3",
   "language": "python",
   "name": "python3"
  },
  "language_info": {
   "codemirror_mode": {
    "name": "ipython",
    "version": 3
   },
   "file_extension": ".py",
   "mimetype": "text/x-python",
   "name": "python",
   "nbconvert_exporter": "python",
   "pygments_lexer": "ipython3",
   "version": "3.11.9"
  }
 },
 "nbformat": 4,
 "nbformat_minor": 5
}
