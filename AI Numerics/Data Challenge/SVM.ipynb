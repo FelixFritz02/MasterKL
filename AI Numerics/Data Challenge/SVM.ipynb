{
 "cells": [
  {
   "cell_type": "code",
   "execution_count": 7,
   "id": "e9c52e04",
   "metadata": {},
   "outputs": [],
   "source": [
    "import torch\n",
    "import torch.nn as nn\n",
    "import torch.optim as optim\n",
    "import matplotlib.pyplot as plt\n",
    "import numpy as np\n",
    "from DataLoader import HeartFailureDataset\n",
    "import matplotlib.colors as colors\n",
    "from sklearn.base import BaseEstimator, ClassifierMixin\n",
    "from sklearn.model_selection import train_test_split\n",
    "from sklearn.datasets import make_classification\n",
    "from random import sample\n",
    "\n",
    "\n",
    "load_data = HeartFailureDataset()\n",
    "X = load_data.get_features()\n",
    "y = load_data.get_targets()\n",
    "\n"
   ]
  },
  {
   "cell_type": "markdown",
   "id": "42236bac",
   "metadata": {},
   "source": [
    "Daten wurden geladen, jetzt bereiten wir unsere Daten für die SVM vor:\n",
    "    - skalieren\n",
    "    - in ein np.array umwandeln\n",
    "    - die Werte der y-Variablen von {0,1} auf {-1,1} skalieren"
   ]
  },
  {
   "cell_type": "code",
   "execution_count": 28,
   "id": "e05c9069",
   "metadata": {},
   "outputs": [],
   "source": [
    "\n",
    "from sklearn.preprocessing import StandardScaler\n",
    "\n",
    "cols_to_scale = ['creatinine_phosphokinase', 'platelets', 'serum_sodium']\n",
    "\n",
    "scaler = StandardScaler()\n",
    "X[cols_to_scale] = scaler.fit_transform(X[cols_to_scale])\n",
    "\n",
    "X = np.array(X)\n",
    "y = np.array(y).reshape(-1)\n",
    "y = np.where(y == 0, -1, 1)\n"
   ]
  },
  {
   "cell_type": "markdown",
   "id": "0645c0c5",
   "metadata": {},
   "source": [
    "Als nächstes schreiben wir eine Klasse für das Trainning einer SVM mit Gradientenabstieg. Wir verwenden ein Soft Margin SVM mit Hinge Loss:\n",
    "$$\n",
    "\\mathcal{L}(w, b) = \\frac{1}{2} \\|w\\|^2 + C \\cdot \\frac{1}{n} \\sum_{i=1}^n \\max\\left(0, 1 - y_i \\cdot (x_i^\\top w + b)\\right)\n",
    "$$"
   ]
  },
  {
   "cell_type": "code",
   "execution_count": 3,
   "id": "2109d401",
   "metadata": {},
   "outputs": [],
   "source": [
    "def gradient_descent(f, f_gradient, f_hessian, x_0, step_size, max_iter=1000, eps=1e-7):\n",
    "    d = x_0.shape[0]\n",
    "    thetas = np.zeros((max_iter,d))\n",
    "    thetas[0] = x_0\n",
    "\n",
    "    for i in range(1, max_iter):\n",
    "        grad = np.squeeze(f_gradient(thetas[i-1]))\n",
    "        step = step_size(i-1) if callable(step_size) else step_size\n",
    "        theta_next = thetas[i-1] - step * grad\n",
    "        thetas[i] = theta_next\n",
    "        if np.sum(grad**2) < eps*eps:\n",
    "            break\n",
    "    return thetas\n",
    "\n",
    "def hinge_loss(t):\n",
    "    return np.maximum(0, 1 - t)\n",
    "\n",
    "def hinge_gradient(t):\n",
    "    return (t < 1).astype(float) * -1\n",
    "\n",
    "def svm_loss(w, b, C, x, y):\n",
    "    loss = 0.5*np.sum(w**2, axis=0) + C/x.shape[0] * np.sum(hinge_loss(y*(np.matmul(x, w) + b)), axis=0)\n",
    "    print(loss)\n",
    "    return loss\n",
    "\n",
    "def svm_gradient(w, b, C, x, y):\n",
    "    n, d = x.shape\n",
    "    if w.ndim == 1:\n",
    "        m = 1\n",
    "    else:\n",
    "        m = w.shape[1]\n",
    "        if isinstance(b, np.ndarray):\n",
    "            b = b.reshape(1, m) \n",
    "    w = w.reshape(d, m)\n",
    "    y = y.reshape(n, 1)\n",
    "    w_bar = w + C/n * np.einsum('nm,nd->dm', hinge_gradient(y*(np.matmul(x, w) + b)), y*x)\n",
    "    b_bar = C/n * np.sum(hinge_gradient(y*(np.matmul(x, w) + b))*y, axis=0, keepdims=True)\n",
    "    return np.concatenate([w_bar, b_bar], axis=0).squeeze()\n",
    "\n",
    "\n",
    "\n",
    "class SVM_GD(BaseEstimator, ClassifierMixin):\n",
    "    def __init__(self, bias=True, C=1, step_size=0.00001, max_iter=1000):\n",
    "        super(SVM_GD, self).__init__()\n",
    "        \n",
    "        self.bias = bias\n",
    "        self.C = C\n",
    "        self.step_size = step_size\n",
    "        self.max_iter = max_iter\n",
    "        self.w = None\n",
    "        self.b = None\n",
    "\n",
    "    def fit(self, X, y):\n",
    "        n_features = X.shape[1]\n",
    "\n",
    "        # Initialisiere Startpunkt: w + b zusammen\n",
    "        w_0 = np.zeros(n_features + 1)\n",
    "\n",
    "        # Definiere Loss- und Gradientenfunktionen für Optimierung\n",
    "        f = lambda w: svm_loss(w[:-1], w[-1], self.C, X, y)\n",
    "        f_grad = lambda w: svm_gradient(w[:-1], w[-1], self.C, X, y)\n",
    "\n",
    "        # Starte Gradientenabstieg\n",
    "        trace = gradient_descent(f, f_grad, None, w_0, step_size=self.step_size, max_iter=self.max_iter)\n",
    "\n",
    "        # Gewichte und Bias extrahieren aus letztem Punkt der Optimierung\n",
    "        self.w = trace[-1, :-1]\n",
    "        self.b = trace[-1, -1] if self.bias else 0\n",
    "        #print(svm_loss(self.w, self.b, self.C,X,y))\n",
    "        return trace\n",
    "        \n",
    "    def predict(self, X):\n",
    "        if self.w is None or self.b is None:\n",
    "            raise ValueError('Predict can only be called after supplying training data with fit first!')\n",
    "        return np.sign(np.matmul(X, self.w) + self.b)\n",
    "    \n",
    "    \n"
   ]
  },
  {
   "cell_type": "markdown",
   "id": "9b5e8475",
   "metadata": {},
   "source": [
    "Wir schauen jetzt verschiedene Regularisierungen an. Dafür verändern wir die Konstante C in der Lossfunktion:\n",
    "    - Je größer C gewählt wird, desto kleiner die Regularisierung"
   ]
  },
  {
   "cell_type": "code",
   "execution_count": null,
   "id": "83d4b54e",
   "metadata": {},
   "outputs": [
    {
     "data": {
      "text/plain": [
       "<matplotlib.collections.PathCollection at 0x184a4038810>"
      ]
     },
     "execution_count": 6,
     "metadata": {},
     "output_type": "execute_result"
    },
    {
     "data": {
      "image/png": "[encoded data removed]",
      "text/plain": [
       "<Figure size 640x480 with 1 Axes>"
      ]
     },
     "metadata": {},
     "output_type": "display_data"
    }
   ],
   "source": [
    "    \n",
    "from sklearn.metrics import accuracy_score\n",
    "from sklearn.svm import SVC\n",
    "\n",
    "accuracy_scores = []\n",
    "accuracy_scores_scikit = [] \n",
    "norms = []\n",
    "Css = np.arange(0.01, 1, 0.01)\n",
    "for Cs in Css:\n",
    "    SVM_model = SVM_GD(C = Cs)\n",
    "    SVM_model.fit(X,y)\n",
    "    norms.append(np.linalg.norm(SVM_model.w))\n",
    "    y_pred = SVM_model.predict(X)\n",
    "    acc = accuracy_score(y, y_pred)\n",
    "    accuracy_scores.append(acc)\n",
    "    #print(f\"Training Accuracy: {acc:.2f}\")\n",
    "    \n",
    "    svm_model = SVC(kernel='linear', C=Cs)\n",
    "    svm_model.fit(X, y)\n",
    "    y_pred = svm_model.predict(X)\n",
    "    acc = accuracy_score(y, y_pred)\n",
    "    accuracy_scores_scikit.append(acc)\n",
    "plt.scatter(norms, accuracy_scores)\n",
    "plt.scatter(norms, accuracy_scores_scikit)"
   ]
  },
  {
   "cell_type": "code",
   "execution_count": null,
   "id": "b9405504",
   "metadata": {},
   "outputs": [
    {
     "name": "stdout",
     "output_type": "stream",
     "text": [
      "C=1e-20: Accuracy=0.5000\n",
      "C=3.8881551803081015e-20: Accuracy=0.5000\n",
      "C=1.51177507061566e-19: Accuracy=0.5000\n",
      "C=5.878016072274924e-19: Accuracy=0.5000\n",
      "C=2.2854638641349837e-18: Accuracy=0.5000\n",
      "C=8.886238162743408e-18: Accuracy=0.5835\n",
      "C=3.4551072945922325e-17: Accuracy=0.8870\n",
      "C=1.3433993325988988e-16: Accuracy=0.9110\n",
      "C=5.223345074266854e-16: Accuracy=0.8826\n",
      "C=2.0309176209047307e-15: Accuracy=0.8849\n",
      "C=7.896522868499733e-15: Accuracy=0.8827\n",
      "C=3.0702906297578495e-14: Accuracy=0.8824\n",
      "C=1.1937766417144357e-13: Accuracy=0.8847\n",
      "C=4.641588833612791e-13: Accuracy=0.8865\n",
      "C=1.8047217668271739e-12: Accuracy=0.8865\n",
      "C=7.017038286703837e-12: Accuracy=0.8860\n",
      "C=2.7283333764867695e-11: Accuracy=0.8860\n",
      "C=1.0608183551394483e-10: Accuracy=0.8860\n",
      "C=4.124626382901348e-10: Accuracy=0.8860\n",
      "C=1.6037187437513343e-09: Accuracy=0.8860\n",
      "C=6.235507341273925e-09: Accuracy=0.8860\n",
      "C=2.424462017082331e-08: Accuracy=0.8860\n",
      "C=9.426684551178854e-08: Accuracy=0.8860\n",
      "C=3.665241237079626e-07: Accuracy=0.8860\n",
      "C=1.4251026703029963e-06: Accuracy=0.8860\n",
      "C=5.5410203300095035e-06: Accuracy=0.8860\n",
      "C=2.1544346900318867e-05: Accuracy=0.8860\n",
      "C=8.376776400682924e-05: Accuracy=0.8860\n",
      "C=0.00032570206556597965: Accuracy=0.8860\n",
      "C=0.0012663801734674022: Accuracy=0.8765\n",
      "C=0.004923882631706752: Accuracy=0.8795\n",
      "C=0.019144819761699537: Accuracy=0.8798\n",
      "C=0.07443803013251696: Accuracy=0.8790\n",
      "C=0.28942661247167634: Accuracy=0.8793\n",
      "C=1.1253355826007645: Accuracy=0.8795\n",
      "C=4.375479375074198: Accuracy=0.8446\n",
      "C=17.012542798525857: Accuracy=0.7897\n",
      "C=66.14740641230159: Accuracy=0.7920\n",
      "C=257.1913809059358: Accuracy=0.7920\n",
      "C=1000.0: Accuracy=0.7920\n",
      "Bestes C: 1.3433993325988988e-16\n"
     ]
    },
    {
     "data": {
      "text/plain": [
       "<function matplotlib.pyplot.show(close=None, block=None)>"
      ]
     },
     "execution_count": 42,
     "metadata": {},
     "output_type": "execute_result"
    },
    {
     "data": {
      "image/png": "[encoded data removed]",
      "text/plain": [
       "<Figure size 800x500 with 1 Axes>"
      ]
     },
     "metadata": {},
     "output_type": "display_data"
    }
   ],
   "source": [
    "from sklearn.svm import SVC\n",
    "from sklearn.model_selection import cross_val_score\n",
    "from sklearn.preprocessing import StandardScaler\n",
    "import numpy as np\n",
    "\n",
    "\n",
    "import torch\n",
    "import torch.nn as nn\n",
    "import torch.optim as optim\n",
    "import matplotlib.pyplot as plt\n",
    "import numpy as np\n",
    "from DataLoader import HeartFailureDataset\n",
    "import matplotlib.colors as colors\n",
    "from sklearn.base import BaseEstimator, ClassifierMixin\n",
    "from sklearn.model_selection import train_test_split\n",
    "from sklearn.datasets import make_classification\n",
    "from random import sample\n",
    "\n",
    "\n",
    "load_data = HeartFailureDataset()\n",
    "X = load_data.get_features()\n",
    "y = load_data.get_targets()\n",
    "X = np.array(X)\n",
    "y = np.array(y).reshape(-1)\n",
    "scaler = StandardScaler()\n",
    "scaler.fit(X)          # Mittelwert und Standardabweichung berechnen\n",
    "X = scaler.transform(X)\n",
    "y = y.reshape(-1)\n",
    "C_values = np.logspace(-20, 3, 40)\n",
    "scores = []\n",
    "\n",
    "#X_scaled = StandardScaler().fit_transform(X)\n",
    "\n",
    "for C in C_values:\n",
    "    clf = SVC(C=C, max_iter=10000, kernel = \"rbf\")\n",
    "    score = cross_val_score(clf, X, y, cv=5, scoring=\"roc_auc\").mean()\n",
    "    scores.append(score)\n",
    "\n",
    "best_C = C_values[np.argmax(scores)]\n",
    "print(\"Bestes C:\", best_C)\n",
    "\n",
    "import matplotlib.pyplot as plt\n",
    "\n",
    "# Visualisierung\n",
    "plt.figure(figsize=(8, 5))\n",
    "plt.plot(C_values, scores, marker='o', linestyle='-')\n",
    "plt.xscale('log')  # C ist besser logarithmisch darstellbar\n",
    "plt.xlabel('C (log scale)')\n",
    "plt.ylabel('AUC Score')\n",
    "plt.title('AUC über verschiedene C-Werte')\n",
    "plt.grid(True)\n",
    "plt.tight_layout()\n",
    "plt.show"
   ]
  },
  {
   "cell_type": "markdown",
   "id": "b66bd7f4",
   "metadata": {},
   "source": []
  }
 ],
 "metadata": {
  "kernelspec": {
   "display_name": "Python 3",
   "language": "python",
   "name": "python3"
  },
  "language_info": {
   "codemirror_mode": {
    "name": "ipython",
    "version": 3
   },
   "file_extension": ".py",
   "mimetype": "text/x-python",
   "name": "python",
   "nbconvert_exporter": "python",
   "pygments_lexer": "ipython3",
   "version": "3.11.9"
  }
 },
 "nbformat": 4,
 "nbformat_minor": 5
}
